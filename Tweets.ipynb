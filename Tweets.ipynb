{
 "cells": [
  {
   "cell_type": "code",
   "execution_count": 2,
   "metadata": {
    "collapsed": true
   },
   "outputs": [],
   "source": [
    "import json"
   ]
  },
  {
   "cell_type": "code",
   "execution_count": null,
   "metadata": {
    "collapsed": false
   },
   "outputs": [],
   "source": [
    "ls"
   ]
  },
  {
   "cell_type": "code",
   "execution_count": 5,
   "metadata": {
    "collapsed": false
   },
   "outputs": [
    {
     "name": "stdout",
     "output_type": "stream",
     "text": [
      "nice\n",
      "nice\n",
      "nice\n",
      "nice\n",
      "nice\n",
      "nice\n",
      "nice\n",
      "nice\n",
      "aaaa\n"
     ]
    }
   ],
   "source": [
    "with open('richie.json', 'rb') as f: \n",
    "    i = 0\n",
    "    for line in f:\n",
    "        i += 1\n",
    "        tweet = json.loads(line)\n",
    "        user_id = tweet['user']['id'] \n",
    "        \n",
    "        if 'retweeted_status' in tweet:\n",
    "            with open(\"retweet.txt\", 'a') as w: \n",
    "                w.write(\"%s %s\" % (tweet['retweeted_status']['user']['id'], user_id)) \n",
    "                w.write('\\n')\n",
    "\n",
    "        if tweet['in_reply_to_user_id'] is not None:\n",
    "            with open(\"replies.txt\", 'a') as w:\n",
    "                w.write(\"%s %s\" % (user_id, tweet['in_reply_to_user_id']))\n",
    "                w.write('\\n')\n",
    "\n",
    "        entities = tweet['entities']\n",
    "\n",
    "        if len(entities['user_mentions']) > 0: \n",
    "            with open(\"mentions.txt\", 'a') as w:\n",
    "                for user_mention in entities['user_mentions']:\n",
    "                    w.write(\"%s %s\" % (user_id, user_mention['id']))\n",
    "                    w.write('\\n')\n",
    "\n",
    "        if len(entities['hashtags']) > 0: \n",
    "            with open(\"hashtags.txt\", 'a') as w:\n",
    "                for hashtag in entities['hashtags']:\n",
    "                    w.write(\"%s %s\" % (user_id, hashtag['text'].encode('ascii', 'ignore')))\n",
    "                    w.write('\\n')\n",
    "        \n",
    "        if i % 100000 == 0:\n",
    "            print \"nice\"\n",
    "            \n",
    "print \"aaaa\""
   ]
  },
  {
   "cell_type": "code",
   "execution_count": null,
   "metadata": {
    "collapsed": false
   },
   "outputs": [],
   "source": [
    "tweets = [] \n",
    "with open('resultsFirst100K.json', 'rb') as f: \n",
    "    for line in f:\n",
    "        tweet = json.loads(line)\n",
    "        print (tweet)\n",
    "        break\n",
    "        tweets.append(tweet)"
   ]
  },
  {
   "cell_type": "code",
   "execution_count": null,
   "metadata": {
    "collapsed": false
   },
   "outputs": [],
   "source": [
    "user_id_to_hashtags = {}\n",
    "user_id_to_retweet_user_ids = {}\n",
    "user_id_to_reply_user_ids = {} \n",
    "user_id_to_mention_user_ids = {}\n",
    "\n",
    "def addToDictionary(d, key, item):\n",
    "    if key not in d:\n",
    "        d[key] = []\n",
    "    d[key].append(item)\n",
    "\n",
    "def extendToDictionary(d, key, items):\n",
    "    if key not in d:\n",
    "        d[key] = []\n",
    "    d[key].extend(items)\n",
    "\n",
    "for tweet in tweets:\n",
    "    user_id = tweet['user']['id'] \n",
    "    if 'retweeted_status' in tweet:\n",
    "        addToDictionary(user_id_to_retweet_user_ids, user_id, tweet['retweeted_status']['user']['id'])\n",
    "    \n",
    "    if tweet['in_reply_to_user_id'] is not None:\n",
    "        addToDictionary(user_id_to_reply_user_ids, user_id, tweet['in_reply_to_user_id'])\n",
    "    \n",
    "    entities = tweet['entities']\n",
    "    \n",
    "    if len(entities['user_mentions']) > 0: \n",
    "        extendToDictionary(user_id_to_mention_user_ids, user_id, [user_mention['id'] for user_mention in entities['user_mentions']])\n",
    "\n",
    "    if len(entities['hashtags']) > 0: \n",
    "        extendToDictionary(user_id_to_hashtags, user_id, [hashtag['text'] for hashtag in entities['hashtags']])\n",
    "\n",
    "    "
   ]
  },
  {
   "cell_type": "code",
   "execution_count": null,
   "metadata": {
    "collapsed": true
   },
   "outputs": [],
   "source": [
    "import cPickle as pickle"
   ]
  },
  {
   "cell_type": "code",
   "execution_count": null,
   "metadata": {
    "collapsed": true
   },
   "outputs": [],
   "source": [
    "\n",
    "with open('user_id_to_hashtags.pickle', 'wb') as f:\n",
    "    pickle.dump(user_id_to_hashtags, f)\n",
    "\n",
    "with open('user_id_to_retweet_user_ids.pickle', 'wb') as f:\n",
    "    pickle.dump(user_id_to_retweet_user_ids, f)\n",
    "\n",
    "with open('user_id_to_reply_user_ids.pickle', 'wb') as f:\n",
    "    pickle.dump(user_id_to_reply_user_ids, f)\n",
    "\n",
    "with open('user_id_to_mention_user_ids.pickle', 'wb') as f:\n",
    "    pickle.dump(user_id_to_mention_user_ids, f)"
   ]
  }
 ],
 "metadata": {
  "anaconda-cloud": {},
  "kernelspec": {
   "display_name": "Python [default]",
   "language": "python",
   "name": "python2"
  },
  "language_info": {
   "codemirror_mode": {
    "name": "ipython",
    "version": 2
   },
   "file_extension": ".py",
   "mimetype": "text/x-python",
   "name": "python",
   "nbconvert_exporter": "python",
   "pygments_lexer": "ipython2",
   "version": "2.7.12"
  }
 },
 "nbformat": 4,
 "nbformat_minor": 1
}
