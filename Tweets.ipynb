{
 "cells": [
  {
   "cell_type": "code",
   "execution_count": 1,
   "metadata": {
    "collapsed": true
   },
   "outputs": [],
   "source": [
    "import json"
   ]
  },
  {
   "cell_type": "code",
   "execution_count": null,
   "metadata": {
    "collapsed": false
   },
   "outputs": [],
   "source": [
    "ls"
   ]
  },
  {
   "cell_type": "code",
   "execution_count": 5,
   "metadata": {
    "collapsed": false
   },
   "outputs": [
    {
     "name": "stdout",
     "output_type": "stream",
     "text": [
      "nice\n",
      "nice\n",
      "nice\n",
      "nice\n",
      "nice\n",
      "nice\n",
      "nice\n",
      "nice\n",
      "aaaa\n"
     ]
    }
   ],
   "source": [
    "with open('richie.json', 'rb') as f: \n",
    "    i = 0\n",
    "    for line in f:\n",
    "        i += 1\n",
    "        tweet = json.loads(line)\n",
    "        user_id = tweet['user']['id'] \n",
    "        \n",
    "        if 'retweeted_status' in tweet:\n",
    "            with open(\"retweet.txt\", 'a') as w: \n",
    "                w.write(\"%s %s\" % (tweet['retweeted_status']['user']['id'], user_id)) \n",
    "                w.write('\\n')\n",
    "\n",
    "        if tweet['in_reply_to_user_id'] is not None:\n",
    "            with open(\"replies.txt\", 'a') as w:\n",
    "                w.write(\"%s %s\" % (user_id, tweet['in_reply_to_user_id']))\n",
    "                w.write('\\n')\n",
    "\n",
    "        entities = tweet['entities']\n",
    "\n",
    "        if len(entities['user_mentions']) > 0: \n",
    "            with open(\"mentions.txt\", 'a') as w:\n",
    "                for user_mention in entities['user_mentions']:\n",
    "                    w.write(\"%s %s\" % (user_id, user_mention['id']))\n",
    "                    w.write('\\n')\n",
    "\n",
    "        if len(entities['hashtags']) > 0: \n",
    "            with open(\"hashtags.txt\", 'a') as w:\n",
    "                for hashtag in entities['hashtags']:\n",
    "                    w.write(\"%s %s\" % (user_id, hashtag['text'].encode('ascii', 'ignore')))\n",
    "                    w.write('\\n')\n",
    "        \n",
    "        if i % 100000 == 0:\n",
    "            print \"nice\"\n",
    "            \n",
    "print \"aaaa\""
   ]
  },
  {
   "cell_type": "code",
   "execution_count": 11,
   "metadata": {
    "collapsed": false
   },
   "outputs": [],
   "source": [
    "from collections import Counter\n",
    "import math\n",
    "\n",
    "import cPickle as pickle"
   ]
  },
  {
   "cell_type": "code",
   "execution_count": 2,
   "metadata": {
    "collapsed": false
   },
   "outputs": [],
   "source": [
    "user_id_to_hashtag_counter = {}\n",
    "with open('hashtags.txt', 'rb') as f:\n",
    "    for line in f:\n",
    "        split_line = line.split()\n",
    "        if len(split_line) < 2:\n",
    "            continue \n",
    "        user_id = int(split_line[0])\n",
    "        hashtag = split_line[1]\n",
    "        if user_id not in user_id_to_hashtag_counter:\n",
    "            user_id_to_hashtag_counter[user_id] = Counter() \n",
    "        user_id_to_hashtag_counter[user_id][hashtag] += 1 \n",
    "        "
   ]
  },
  {
   "cell_type": "code",
   "execution_count": 12,
   "metadata": {
    "collapsed": true
   },
   "outputs": [],
   "source": [
    "with open('user_id_to_hashtag_counter.pickle', 'wb') as f:\n",
    "    pickle.dump(user_id_to_hashtag_counter, f)"
   ]
  },
  {
   "cell_type": "code",
   "execution_count": 4,
   "metadata": {
    "collapsed": false
   },
   "outputs": [
    {
     "data": {
      "text/plain": [
       "Counter({'BernieMadeMeWhite': 2,\n",
       "         'HillaryClinton': 2,\n",
       "         'NotWorshippingHillaryMadeMeWhite': 2,\n",
       "         'PodestaEmails8': 1,\n",
       "         'PutinMadeMeWhite': 2})"
      ]
     },
     "execution_count": 4,
     "metadata": {},
     "output_type": "execute_result"
    }
   ],
   "source": [
    "user_id_to_hashtag_counter[822607872]"
   ]
  },
  {
   "cell_type": "code",
   "execution_count": 6,
   "metadata": {
    "collapsed": false
   },
   "outputs": [],
   "source": [
    "def cosine_sim(user_1, user_2):\n",
    "    return counter_cosine_similarity(user_id_to_hashtag_counter[user_1], \n",
    "                                     user_id_to_hashtag_counter[user_2])\n",
    "\n",
    "def counter_cosine_similarity(c1, c2):\n",
    "    terms = set(c1).union(c2)\n",
    "    dotprod = sum(c1.get(k, 0) * c2.get(k, 0) for k in terms)\n",
    "    magA = math.sqrt(sum(c1.get(k, 0)**2 for k in terms))\n",
    "    magB = math.sqrt(sum(c2.get(k, 0)**2 for k in terms))\n",
    "    return dotprod / (magA * magB)\n"
   ]
  },
  {
   "cell_type": "code",
   "execution_count": 7,
   "metadata": {
    "collapsed": false
   },
   "outputs": [
    {
     "data": {
      "text/plain": [
       "0.20150154201660067"
      ]
     },
     "execution_count": 7,
     "metadata": {},
     "output_type": "execute_result"
    }
   ],
   "source": [
    "cosine_sim(456775778, 2839584336)"
   ]
  },
  {
   "cell_type": "code",
   "execution_count": 8,
   "metadata": {
    "collapsed": false
   },
   "outputs": [
    {
     "data": {
      "text/plain": [
       "0.026117584882778506"
      ]
     },
     "execution_count": 8,
     "metadata": {},
     "output_type": "execute_result"
    }
   ],
   "source": [
    "cosine_sim(456775778, 450248587)"
   ]
  },
  {
   "cell_type": "code",
   "execution_count": 9,
   "metadata": {
    "collapsed": false
   },
   "outputs": [
    {
     "data": {
      "text/plain": [
       "Counter({'100YearsStrong': 1,\n",
       "         'AuditTheMedia': 4,\n",
       "         'BILL': 1,\n",
       "         'BecauseYoudBeInJail': 1,\n",
       "         'BigLeagueTruth': 2,\n",
       "         'BillTheSerialRapistAndPedophile': 2,\n",
       "         'Billionairs': 2,\n",
       "         'Ccot': 1,\n",
       "         'Clinton': 2,\n",
       "         'ClintonCorruption': 1,\n",
       "         'Clintons': 1,\n",
       "         'Comey': 1,\n",
       "         'CorruptMedia': 2,\n",
       "         'CreateADisaster4Diversion': 2,\n",
       "         'CrookedHillary': 4,\n",
       "         'DC': 2,\n",
       "         'DebateNight': 1,\n",
       "         'Election2016': 2,\n",
       "         'FBIweasels': 2,\n",
       "         'FailedTaxAudit': 5,\n",
       "         'FeelTheBern': 1,\n",
       "         'FiLTHYFiLTH': 1,\n",
       "         'FollowTheMoney': 4,\n",
       "         'FraudWAd': 1,\n",
       "         'GaysForTrump': 2,\n",
       "         'Globalists': 2,\n",
       "         'GreenBay': 2,\n",
       "         'HONEST': 1,\n",
       "         'HRCCrooks': 1,\n",
       "         'HereWeGo': 1,\n",
       "         'Hillary': 6,\n",
       "         'HillaryCRONIES': 1,\n",
       "         'HillaryClinton': 3,\n",
       "         'HillaryGropedMe': 2,\n",
       "         'HillaryLies': 1,\n",
       "         'HillaryLostMe': 1,\n",
       "         'HillaryTheEnabler': 2,\n",
       "         'ILLEGALS': 1,\n",
       "         'ISIS': 1,\n",
       "         'Illuminatis': 2,\n",
       "         'ImWithHer': 1,\n",
       "         'Killary': 7,\n",
       "         'KlintonKrimeKartel': 2,\n",
       "         'KnewPressureTrumpAmazed': 2,\n",
       "         'MAGA': 8,\n",
       "         'MSM': 6,\n",
       "         'MakeAmericaGreatAgain': 2,\n",
       "         'Masons': 2,\n",
       "         'NEVERhillary': 2,\n",
       "         'NH': 2,\n",
       "         'NeverHillary': 8,\n",
       "         'Newsmax': 1,\n",
       "         'ObamasLibsIllumMuslims': 2,\n",
       "         'PA': 2,\n",
       "         'PJNET': 1,\n",
       "         'PayToPlay': 2,\n",
       "         'Philly': 2,\n",
       "         'PodestaEmails9': 2,\n",
       "         'PollsAreWRONG': 1,\n",
       "         'PropagandaMediaWhores': 2,\n",
       "         'Raleigh': 2,\n",
       "         'Sharpton': 1,\n",
       "         'ShesAWarMonger': 1,\n",
       "         'SoldGovtOfficials': 2,\n",
       "         'StandUp4UrCountry': 1,\n",
       "         'StrongerTogether': 1,\n",
       "         'SundayMorning': 4,\n",
       "         'TRUMP': 6,\n",
       "         'TakeRedPill': 2,\n",
       "         'TheClintonFoundation': 2,\n",
       "         'Trump': 11,\n",
       "         'Trump2016': 1,\n",
       "         'TrumpPence16': 3,\n",
       "         'TrumpTaxes': 2,\n",
       "         'TrumpTrain': 2,\n",
       "         'TrumpsArmy': 2,\n",
       "         'USA': 1,\n",
       "         'VOTE': 2,\n",
       "         'Virginia': 2,\n",
       "         'VoteDem': 1,\n",
       "         'VoteTrump': 2,\n",
       "         'WhiteHouse': 1,\n",
       "         'WomenWhoVoteTrump': 1,\n",
       "         'alist': 2,\n",
       "         'billClinton': 2,\n",
       "         'blacks': 2,\n",
       "         'bleachbit': 1,\n",
       "         'ccot': 1,\n",
       "         'feedly': 2,\n",
       "         'gays': 2,\n",
       "         'hillarygropedme': 1,\n",
       "         'mexicans': 2,\n",
       "         'millennials': 2,\n",
       "         'p2': 1,\n",
       "         'tcot': 2,\n",
       "         'thuglife': 2})"
      ]
     },
     "execution_count": 9,
     "metadata": {},
     "output_type": "execute_result"
    }
   ],
   "source": [
    "user_id_to_hashtag_counter[456775778]"
   ]
  },
  {
   "cell_type": "code",
   "execution_count": 10,
   "metadata": {
    "collapsed": false
   },
   "outputs": [
    {
     "data": {
      "text/plain": [
       "Counter({'ImWithHer': 1, 'dumptrump': 1})"
      ]
     },
     "execution_count": 10,
     "metadata": {},
     "output_type": "execute_result"
    }
   ],
   "source": [
    "user_id_to_hashtag_counter[450248587]"
   ]
  },
  {
   "cell_type": "code",
   "execution_count": null,
   "metadata": {
    "collapsed": true
   },
   "outputs": [],
   "source": []
  }
 ],
 "metadata": {
  "anaconda-cloud": {},
  "kernelspec": {
   "display_name": "Python [default]",
   "language": "python",
   "name": "python2"
  },
  "language_info": {
   "codemirror_mode": {
    "name": "ipython",
    "version": 2
   },
   "file_extension": ".py",
   "mimetype": "text/x-python",
   "name": "python",
   "nbconvert_exporter": "python",
   "pygments_lexer": "ipython2",
   "version": "2.7.12"
  }
 },
 "nbformat": 4,
 "nbformat_minor": 1
}
