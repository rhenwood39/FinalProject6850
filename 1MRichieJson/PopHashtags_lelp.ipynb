{
 "cells": [
  {
   "cell_type": "code",
   "execution_count": 1,
   "metadata": {
    "collapsed": false
   },
   "outputs": [
    {
     "name": "stdout",
     "output_type": "stream",
     "text": [
      "PLaw.ipynb                     replies_rm_clust.txt\r\n",
      "PopHashtags.ipynb              replies_rm_lelp_analysis.txt\r\n",
      "PopHashtags_lelp.ipynb         replies_rm_lelp_clust.txt\r\n",
      "hashtags.txt                   replies_rm_lelp_network.png\r\n",
      "mentions.txt                   replies_rm_lelp_randhist.png\r\n",
      "mentions_analysis.txt          replies_rm_network.png\r\n",
      "mentions_clust.txt             replies_rm_randhist.png\r\n",
      "mentions_randhist.png          retweet.txt\r\n",
      "mentions_rm_analysis.txt       retweet_analysis.txt\r\n",
      "mentions_rm_clust.txt          retweet_clust.txt\r\n",
      "mentions_rm_lelp.png           retweet_randhist.png\r\n",
      "mentions_rm_lelp_analysis.txt  retweet_rm_analysis.txt\r\n",
      "mentions_rm_lelp_clust.txt     retweet_rm_clust.txt\r\n",
      "mentions_rm_lelp_randhist.png  retweet_rm_lelp_analysis.txt\r\n",
      "mentions_rm_network.png        retweet_rm_lelp_clust.txt\r\n",
      "mentions_rm_randhist.png       retweet_rm_lelp_network.png\r\n",
      "replies.txt                    retweet_rm_lelp_randhist.png\r\n",
      "replies_analysis.txt           retweet_rm_network.png\r\n",
      "replies_clust.txt              retweet_rm_randhist.png\r\n",
      "replies_randhist.png           \u001b[31musers_w_tweets.txt\u001b[m\u001b[m*\r\n",
      "replies_rm_analysis.txt\r\n"
     ]
    }
   ],
   "source": [
    "ls"
   ]
  },
  {
   "cell_type": "code",
   "execution_count": 2,
   "metadata": {
    "collapsed": false
   },
   "outputs": [],
   "source": [
    "from collections import Counter\n",
    "hashtags_per_person = {} \n",
    "with open('hashtags.txt', 'rb') as f:\n",
    "    for line in f:\n",
    "        split_line = line.split()\n",
    "        if len(split_line) < 2:\n",
    "            continue\n",
    "        user_id = int(split_line[0])\n",
    "        hashtag = split_line[1]\n",
    "        if user_id not in hashtags_per_person:\n",
    "            hashtags_per_person[user_id] = Counter()\n",
    "        hashtags_per_person[user_id][hashtag] += 1     "
   ]
  },
  {
   "cell_type": "code",
   "execution_count": 3,
   "metadata": {
    "collapsed": false
   },
   "outputs": [],
   "source": [
    "user_to_cluster = {} \n",
    "with open('mentions_rm_lelp_clust.txt', 'rb') as f:\n",
    "    for line in f:\n",
    "        split_line = line.split()\n",
    "        cluster_id = int(split_line[1])\n",
    "        user_id = int(split_line[0])\n",
    "        user_to_cluster[user_id] = cluster_id"
   ]
  },
  {
   "cell_type": "code",
   "execution_count": 4,
   "metadata": {
    "collapsed": false
   },
   "outputs": [],
   "source": [
    "counter_per_cluster = {}\n",
    "with open('hashtags.txt', 'rb') as f:\n",
    "    for line in f:\n",
    "        split_line = line.split()\n",
    "        if len(split_line) < 2:\n",
    "            continue\n",
    "        user_id = int(split_line[0])\n",
    "        if user_id not in user_to_cluster:\n",
    "            continue\n",
    "        hashtag = split_line[1]\n",
    "        cluster_id = user_to_cluster[user_id]\n",
    "        \n",
    "        if cluster_id not in counter_per_cluster:\n",
    "            counter_per_cluster[cluster_id] = Counter()\n",
    "        counter_per_cluster[cluster_id][hashtag] += 1  \n"
   ]
  },
  {
   "cell_type": "code",
   "execution_count": 5,
   "metadata": {
    "collapsed": false
   },
   "outputs": [
    {
     "name": "stdout",
     "output_type": "stream",
     "text": [
      "#################\n",
      "0\n",
      "[('Trump', 16379), ('MAGA', 9304), ('PodestaEmails9', 6953), ('ImWithHer', 5089), ('HillaryGropedMe', 4265)]\n",
      "#################\n",
      "#################\n",
      "1\n",
      "[('Trump', 686), ('MAGA', 444), ('SNL', 227), ('Election2016', 204), ('TrumpPence16', 174)]\n",
      "#################\n"
     ]
    }
   ],
   "source": [
    "# for mentions\n",
    "for cluster in counter_per_cluster:\n",
    "    most_common = counter_per_cluster[cluster].most_common(5)\n",
    "    if len(most_common) < 5:\n",
    "        continue\n",
    "    print \"#################\"\n",
    "    print cluster\n",
    "    print most_common\n",
    "    print \"#################\""
   ]
  },
  {
   "cell_type": "code",
   "execution_count": 6,
   "metadata": {
    "collapsed": true
   },
   "outputs": [],
   "source": [
    "user_to_cluster_retweet = {} \n",
    "with open('retweet_rm_lelp_clust.txt', 'rb') as f:\n",
    "    for line in f:\n",
    "        split_line = line.split()\n",
    "        cluster_id = int(split_line[1])\n",
    "        user_id = int(split_line[0])\n",
    "        user_to_cluster_retweet[user_id] = cluster_id"
   ]
  },
  {
   "cell_type": "code",
   "execution_count": 7,
   "metadata": {
    "collapsed": false
   },
   "outputs": [],
   "source": [
    "counter_per_cluster_retweet = {}\n",
    "with open('hashtags.txt', 'rb') as f:\n",
    "    for line in f:\n",
    "        split_line = line.split()\n",
    "        if len(split_line) < 2:\n",
    "            continue\n",
    "        user_id = int(split_line[0])\n",
    "        if user_id not in user_to_cluster_retweet:\n",
    "            continue\n",
    "        hashtag = split_line[1]\n",
    "        cluster_id = user_to_cluster_retweet[user_id]\n",
    "        \n",
    "        if cluster_id not in counter_per_cluster_retweet:\n",
    "            counter_per_cluster_retweet[cluster_id] = Counter()\n",
    "        counter_per_cluster_retweet[cluster_id][hashtag] += 1  "
   ]
  },
  {
   "cell_type": "code",
   "execution_count": 8,
   "metadata": {
    "collapsed": false
   },
   "outputs": [
    {
     "name": "stdout",
     "output_type": "stream",
     "text": [
      "#################\n",
      "0\n",
      "[('Trump', 5409), ('ImWithHer', 4240), ('SNL', 1601), ('NeverTrump', 1526), ('Election2016', 1436)]\n",
      "#################\n",
      "#################\n",
      "1\n",
      "[('Trump', 10715), ('MAGA', 8899), ('PodestaEmails9', 6229), ('Hillary', 3628), ('HillaryGropedMe', 3612)]\n",
      "#################\n"
     ]
    }
   ],
   "source": [
    "# for retweet\n",
    "for cluster in counter_per_cluster_retweet:\n",
    "    most_common = counter_per_cluster_retweet[cluster].most_common(5)\n",
    "    if len(most_common) < 5:\n",
    "        continue\n",
    "    print \"#################\"\n",
    "    print cluster\n",
    "    print most_common\n",
    "    print \"#################\""
   ]
  },
  {
   "cell_type": "code",
   "execution_count": 9,
   "metadata": {
    "collapsed": false
   },
   "outputs": [
    {
     "name": "stdout",
     "output_type": "stream",
     "text": [
      "PLaw.ipynb                     replies_rm_clust.txt\r\n",
      "PopHashtags.ipynb              replies_rm_lelp_analysis.txt\r\n",
      "PopHashtags_lelp.ipynb         replies_rm_lelp_clust.txt\r\n",
      "hashtags.txt                   replies_rm_lelp_network.png\r\n",
      "mentions.txt                   replies_rm_lelp_randhist.png\r\n",
      "mentions_analysis.txt          replies_rm_network.png\r\n",
      "mentions_clust.txt             replies_rm_randhist.png\r\n",
      "mentions_randhist.png          retweet.txt\r\n",
      "mentions_rm_analysis.txt       retweet_analysis.txt\r\n",
      "mentions_rm_clust.txt          retweet_clust.txt\r\n",
      "mentions_rm_lelp.png           retweet_randhist.png\r\n",
      "mentions_rm_lelp_analysis.txt  retweet_rm_analysis.txt\r\n",
      "mentions_rm_lelp_clust.txt     retweet_rm_clust.txt\r\n",
      "mentions_rm_lelp_randhist.png  retweet_rm_lelp_analysis.txt\r\n",
      "mentions_rm_network.png        retweet_rm_lelp_clust.txt\r\n",
      "mentions_rm_randhist.png       retweet_rm_lelp_network.png\r\n",
      "replies.txt                    retweet_rm_lelp_randhist.png\r\n",
      "replies_analysis.txt           retweet_rm_network.png\r\n",
      "replies_clust.txt              retweet_rm_randhist.png\r\n",
      "replies_randhist.png           \u001b[31musers_w_tweets.txt\u001b[m\u001b[m*\r\n",
      "replies_rm_analysis.txt\r\n"
     ]
    }
   ],
   "source": [
    "ls"
   ]
  },
  {
   "cell_type": "code",
   "execution_count": 10,
   "metadata": {
    "collapsed": false
   },
   "outputs": [],
   "source": [
    "user_to_cluster_replies = {} \n",
    "with open('replies_rm_lelp_clust.txt', 'rb') as f:\n",
    "    for line in f:\n",
    "        split_line = line.split()\n",
    "        cluster_id = int(split_line[1])\n",
    "        user_id = int(split_line[0])\n",
    "        user_to_cluster_replies[user_id] = cluster_id\n"
   ]
  },
  {
   "cell_type": "code",
   "execution_count": 11,
   "metadata": {
    "collapsed": false
   },
   "outputs": [],
   "source": [
    "counter_per_cluster_replies = {}\n",
    "with open('hashtags.txt', 'rb') as f:\n",
    "    for line in f:\n",
    "        split_line = line.split()\n",
    "        if len(split_line) < 2:\n",
    "            continue\n",
    "        user_id = int(split_line[0])\n",
    "        \n",
    "        if user_id not in user_to_cluster_replies:\n",
    "            continue\n",
    "        \n",
    "        hashtag = split_line[1]\n",
    "        cluster_id = user_to_cluster_replies[user_id]\n",
    "        \n",
    "        if cluster_id not in counter_per_cluster_replies:\n",
    "            counter_per_cluster_replies[cluster_id] = Counter()\n",
    "        counter_per_cluster_replies[cluster_id][hashtag] += 1 "
   ]
  },
  {
   "cell_type": "code",
   "execution_count": 12,
   "metadata": {
    "collapsed": false
   },
   "outputs": [
    {
     "name": "stdout",
     "output_type": "stream",
     "text": [
      "#################\n",
      "0\n",
      "[('Trump', 3728), ('MAGA', 2406), ('PodestaEmails9', 1689), ('Hillary', 956), ('HillaryGropedMe', 947)]\n",
      "#################\n",
      "#################\n",
      "1\n",
      "[('Trump', 1787), ('MAGA', 1324), ('PodestaEmails9', 678), ('TrumpPence16', 499), ('Hillary', 464)]\n",
      "#################\n"
     ]
    }
   ],
   "source": [
    "# for replies\n",
    "for cluster in counter_per_cluster_replies:\n",
    "    most_common = counter_per_cluster_replies[cluster].most_common(5)\n",
    "    if len(most_common) < 5:\n",
    "        continue\n",
    "    print \"#################\"\n",
    "    print cluster\n",
    "    print most_common\n",
    "    print \"#################\""
   ]
  },
  {
   "cell_type": "code",
   "execution_count": 13,
   "metadata": {
    "collapsed": false
   },
   "outputs": [
    {
     "name": "stdout",
     "output_type": "stream",
     "text": [
      "mention network top 3 biggest cluster sizes\n",
      "[(0, 151423), (1, 34666)]\n",
      "retweet network top 3 biggest cluster sizes\n",
      "[(0, 99259), (1, 51908)]\n",
      "replies network top 3 biggest cluster sizes\n",
      "[(1, 25287), (0, 18299)]\n"
     ]
    }
   ],
   "source": [
    "mention_cluster_counter = Counter()\n",
    "for user in user_to_cluster:\n",
    "    mention_cluster_counter[user_to_cluster[user]] += 1\n",
    "    \n",
    "print \"mention network top 3 biggest cluster sizes\"\n",
    "print mention_cluster_counter.most_common(3)\n",
    "    \n",
    "retweet_cluster_counter = Counter()\n",
    "\n",
    "for user in user_to_cluster_retweet:\n",
    "    retweet_cluster_counter[user_to_cluster_retweet[user]] += 1\n",
    "    \n",
    "print \"retweet network top 3 biggest cluster sizes\"\n",
    "print retweet_cluster_counter.most_common(3)\n",
    "\n",
    "replies_cluster_counter = Counter()\n",
    "\n",
    "for user in user_to_cluster_replies:\n",
    "    replies_cluster_counter[user_to_cluster_replies[user]] += 1\n",
    "    \n",
    "print \"replies network top 3 biggest cluster sizes\"\n",
    "print replies_cluster_counter.most_common(3)\n"
   ]
  },
  {
   "cell_type": "code",
   "execution_count": null,
   "metadata": {
    "collapsed": true
   },
   "outputs": [],
   "source": []
  }
 ],
 "metadata": {
  "anaconda-cloud": {},
  "kernelspec": {
   "display_name": "Python [default]",
   "language": "python",
   "name": "python2"
  },
  "language_info": {
   "codemirror_mode": {
    "name": "ipython",
    "version": 2
   },
   "file_extension": ".py",
   "mimetype": "text/x-python",
   "name": "python",
   "nbconvert_exporter": "python",
   "pygments_lexer": "ipython2",
   "version": "2.7.12"
  }
 },
 "nbformat": 4,
 "nbformat_minor": 1
}
